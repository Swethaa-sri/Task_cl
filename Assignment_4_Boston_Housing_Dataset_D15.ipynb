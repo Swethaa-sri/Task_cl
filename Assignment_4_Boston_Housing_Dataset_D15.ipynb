{
  "nbformat": 4,
  "nbformat_minor": 0,
  "metadata": {
    "colab": {
      "name": "Assignment 4_Boston Housing Dataset_D15.ipynb",
      "provenance": [],
      "authorship_tag": "ABX9TyPsoCeDdWkwkBaqLpVZtEjP",
      "include_colab_link": true
    },
    "kernelspec": {
      "name": "python3",
      "display_name": "Python 3"
    },
    "language_info": {
      "name": "python"
    }
  },
  "cells": [
    {
      "cell_type": "markdown",
      "metadata": {
        "id": "view-in-github",
        "colab_type": "text"
      },
      "source": [
        "<a href=\"https://colab.research.google.com/github/Swethaa-sri/Task_cl/blob/main/Assignment_4_Boston_Housing_Dataset_D15.ipynb\" target=\"_parent\"><img src=\"https://colab.research.google.com/assets/colab-badge.svg\" alt=\"Open In Colab\"/></a>"
      ]
    },
    {
      "cell_type": "markdown",
      "source": [
        "#### Importing numpy library"
      ],
      "metadata": {
        "id": "xM5QLixGFA_9"
      }
    },
    {
      "cell_type": "code",
      "execution_count": 1,
      "metadata": {
        "id": "JlySrSfE3Iko"
      },
      "outputs": [],
      "source": [
        "import numpy as np"
      ]
    },
    {
      "cell_type": "markdown",
      "source": [
        "#### Importing phi from train data set"
      ],
      "metadata": {
        "id": "c9NNirDkFKqE"
      }
    },
    {
      "cell_type": "code",
      "source": [
        "phi = np.loadtxt('train.csv', dtype = 'float', delimiter = ',', skiprows = 1, usecols = tuple(range(1,14))  )"
      ],
      "metadata": {
        "id": "KAEWhAQt4e-n"
      },
      "execution_count": 2,
      "outputs": []
    },
    {
      "cell_type": "code",
      "source": [
        "phi"
      ],
      "metadata": {
        "id": "RMH8bDey5Yh4"
      },
      "execution_count": null,
      "outputs": []
    },
    {
      "cell_type": "markdown",
      "source": [
        "#### Import y from train data set"
      ],
      "metadata": {
        "id": "iFkA_2NUFYWv"
      }
    },
    {
      "cell_type": "code",
      "source": [
        "y = np.loadtxt('train.csv', dtype = 'float', delimiter = ',', skiprows = 1, usecols = 14, ndmin = 2)"
      ],
      "metadata": {
        "id": "-PJ343Lw5qYW"
      },
      "execution_count": 4,
      "outputs": []
    },
    {
      "cell_type": "code",
      "source": [
        "print(y)"
      ],
      "metadata": {
        "id": "SEhyhmK6C2rW"
      },
      "execution_count": null,
      "outputs": []
    },
    {
      "cell_type": "markdown",
      "source": [
        "#### Import phi_test from test data set"
      ],
      "metadata": {
        "id": "I8ib0e28FgOm"
      }
    },
    {
      "cell_type": "code",
      "source": [
        "phi_test = np.loadtxt('test.csv', dtype = 'float', delimiter = ',', skiprows = 1, usecols = tuple(range(1,14)))"
      ],
      "metadata": {
        "id": "dxh2NFYuDAQ4"
      },
      "execution_count": 6,
      "outputs": []
    },
    {
      "cell_type": "code",
      "source": [
        "print(phi_test)"
      ],
      "metadata": {
        "id": "7-yLprPwEnxT"
      },
      "execution_count": null,
      "outputs": []
    },
    {
      "cell_type": "markdown",
      "source": [
        "#### Add a column of 1s to the right of phi and phi_test"
      ],
      "metadata": {
        "id": "fZ5yNeHAFlwc"
      }
    },
    {
      "cell_type": "code",
      "source": [
        "phi_test.shape"
      ],
      "metadata": {
        "colab": {
          "base_uri": "https://localhost:8080/"
        },
        "id": "9E4_sRKREugW",
        "outputId": "7cad5010-73bb-4060-f294-ff311219d597"
      },
      "execution_count": 7,
      "outputs": [
        {
          "output_type": "execute_result",
          "data": {
            "text/plain": [
              "(105, 13)"
            ]
          },
          "metadata": {},
          "execution_count": 7
        }
      ]
    },
    {
      "cell_type": "code",
      "source": [
        "phi.shape"
      ],
      "metadata": {
        "colab": {
          "base_uri": "https://localhost:8080/"
        },
        "id": "VeUiKPCKGAGv",
        "outputId": "d80c584e-baba-4521-e057-65087fadb8fd"
      },
      "execution_count": 8,
      "outputs": [
        {
          "output_type": "execute_result",
          "data": {
            "text/plain": [
              "(400, 13)"
            ]
          },
          "metadata": {},
          "execution_count": 8
        }
      ]
    },
    {
      "cell_type": "code",
      "source": [
        "phi_test = np.concatenate((phi_test, np.ones((105,1))),1)"
      ],
      "metadata": {
        "id": "7QvrTMUdF-lA"
      },
      "execution_count": 9,
      "outputs": []
    },
    {
      "cell_type": "code",
      "source": [
        "phi_test.shape"
      ],
      "metadata": {
        "colab": {
          "base_uri": "https://localhost:8080/"
        },
        "id": "uYs3Lmg8GWgI",
        "outputId": "206eb74c-c880-4ed1-a87b-c1093425a76c"
      },
      "execution_count": 10,
      "outputs": [
        {
          "output_type": "execute_result",
          "data": {
            "text/plain": [
              "(105, 14)"
            ]
          },
          "metadata": {},
          "execution_count": 10
        }
      ]
    },
    {
      "cell_type": "code",
      "source": [
        "phi = np.concatenate((phi, np.ones((400,1))),1)"
      ],
      "metadata": {
        "id": "Zwa3oxpGGoTI"
      },
      "execution_count": 11,
      "outputs": []
    },
    {
      "cell_type": "code",
      "source": [
        "phi.shape"
      ],
      "metadata": {
        "colab": {
          "base_uri": "https://localhost:8080/"
        },
        "id": "ebg4-iypG3dq",
        "outputId": "52042128-af6a-4082-afb7-4bdb2774ec69"
      },
      "execution_count": 12,
      "outputs": [
        {
          "output_type": "execute_result",
          "data": {
            "text/plain": [
              "(400, 14)"
            ]
          },
          "metadata": {},
          "execution_count": 12
        }
      ]
    },
    {
      "cell_type": "markdown",
      "source": [
        "#### Min Max scaling for phi and phi_test "
      ],
      "metadata": {
        "id": "8nV1zU5THSR0"
      }
    },
    {
      "cell_type": "code",
      "source": [
        "for i in range(0, 13):\n",
        "  col_max = max(phi[:,i])\n",
        "  col_min = min(phi[:,i])\n",
        "  phi[:,i] = (phi[:,i] - col_min)/(col_max - col_min)\n",
        "  phi_test[:,i] = (phi_test[:,i] - col_min)/(col_max - col_min)"
      ],
      "metadata": {
        "id": "xhWQx_msG8DM"
      },
      "execution_count": 13,
      "outputs": []
    },
    {
      "cell_type": "markdown",
      "source": [
        "#### Log scaling on y"
      ],
      "metadata": {
        "id": "HJRkTG8_Z6UM"
      }
    },
    {
      "cell_type": "code",
      "source": [
        "y = np.log(y)"
      ],
      "metadata": {
        "id": "pkzZek2nZ5tm"
      },
      "execution_count": 14,
      "outputs": []
    },
    {
      "cell_type": "markdown",
      "source": [
        "#### Function to calculate change in error function"
      ],
      "metadata": {
        "id": "SWtkcmCjcUyW"
      }
    },
    {
      "cell_type": "code",
      "source": [
        "def d_w(p, phi, w):\n",
        "  if p == 2:\n",
        "    deltaw = (2 * (np.dot(np.dot(np.transpose(phi), phi), w) -\n",
        "                       np.dot(np.transpose(phi), y)) +\n",
        "                  lambd * p * np.power(np.absolute(w), (p - 1)))\n",
        "  if p < 2 and p > 1:\n",
        "        deltaw = (2 * (np.dot(np.dot(np.transpose(phi), phi), w) -\n",
        "                       np.dot(np.transpose(phi), y)) +\n",
        "                  lambd * p * np.power(np.absolute(w), (p - 1)) * np.sign(w))\n",
        "  return deltaw"
      ],
      "metadata": {
        "id": "KFL06y9Jccns"
      },
      "execution_count": 15,
      "outputs": []
    },
    {
      "cell_type": "markdown",
      "source": [
        "#### Dictionary containing filenames as keys and p as values"
      ],
      "metadata": {
        "id": "lQsyQNjFfagK"
      }
    },
    {
      "cell_type": "code",
      "source": [
        "filenames = {'output.csv': 2.0,\n",
        "             'output_p1.csv': 1.75,\n",
        "             'output_p2.csv': 1.5,\n",
        "             'output_p3.csv': 1.3\n",
        "             }\n"
      ],
      "metadata": {
        "id": "_9GLZu3ud4TU"
      },
      "execution_count": 16,
      "outputs": []
    },
    {
      "cell_type": "code",
      "source": [
        "# For each item in this dictionary\n",
        "for (fname, p) in filenames.items():\n",
        "    # Set initial w to zeros\n",
        "    w = np.zeros((14, 1))\n",
        "    # Hyperparameter lambda value\n",
        "    lambd = 0.2\n",
        "    # Maximum step size\n",
        "    t = 0.00012\n",
        "    # Calculate new value of w\n",
        "    w_new = w - t * d_w(p, phi, w)\n",
        "    i = 0\n",
        "    # Repeat steps until error between consecutive w is less than threshold\n",
        "    while(np.linalg.norm(w_new-w) > 10 ** -10):\n",
        "        w = w_new\n",
        "        w_new = w - t * d_w(p, phi, w)\n",
        "        i = i + 1\n",
        "    # Load values of id\n",
        "    id_test = np.loadtxt('test.csv', dtype='int', delimiter=',',\n",
        "                         skiprows=1, usecols=0, ndmin=2)\n",
        "    # Calculate y for test data\n",
        "    y_test = np.exp(np.dot(phi_test, w_new))\n",
        "\n",
        "    # Save the ids and y\n",
        "    np.savetxt(fname, np.concatenate((id_test, y_test), axis=1),\n",
        "               delimiter=',', fmt=['%d', '%f'], header='ID,MEDV', comments='')"
      ],
      "metadata": {
        "id": "eBIqS2rafl06"
      },
      "execution_count": 17,
      "outputs": []
    },
    {
      "cell_type": "code",
      "source": [
        ""
      ],
      "metadata": {
        "id": "VbIhT3RPhERc"
      },
      "execution_count": null,
      "outputs": []
    }
  ]
}